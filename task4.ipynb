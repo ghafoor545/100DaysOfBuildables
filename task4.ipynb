{
  "nbformat": 4,
  "nbformat_minor": 0,
  "metadata": {
    "colab": {
      "provenance": []
    },
    "kernelspec": {
      "name": "python3",
      "display_name": "Python 3"
    },
    "language_info": {
      "name": "python"
    }
  },
  "cells": [
    {
      "cell_type": "markdown",
      "source": [
        "Mean"
      ],
      "metadata": {
        "id": "eLvlaa_C5kHP"
      }
    },
    {
      "cell_type": "code",
      "execution_count": 1,
      "metadata": {
        "colab": {
          "base_uri": "https://localhost:8080/"
        },
        "id": "9ythk2g25VMW",
        "outputId": "91397716-cff5-45cd-e49d-a9acb1dfd7b6"
      },
      "outputs": [
        {
          "output_type": "stream",
          "name": "stdout",
          "text": [
            "Mean: 6.0\n"
          ]
        }
      ],
      "source": [
        "def mean(numbers):\n",
        "    return sum(numbers) / len(numbers)\n",
        "\n",
        "# Example\n",
        "data = [2, 4, 6, 8, 10]\n",
        "print(\"Mean:\", mean(data))\n"
      ]
    },
    {
      "cell_type": "markdown",
      "source": [
        "Median"
      ],
      "metadata": {
        "id": "3Dzjwo9t5p4q"
      }
    },
    {
      "cell_type": "code",
      "source": [
        "def median(numbers):\n",
        "    numbers_sorted = sorted(numbers)\n",
        "    n = len(numbers_sorted)\n",
        "    mid = n // 2\n",
        "\n",
        "    if n % 2 == 0:\n",
        "        return (numbers_sorted[mid - 1] + numbers_sorted[mid]) / 2\n",
        "    else:\n",
        "        return numbers_sorted[mid]\n",
        "\n",
        "# Example\n",
        "data = [2, 4, 6, 8, 10]\n",
        "print(\"Median:\", median(data))\n"
      ],
      "metadata": {
        "colab": {
          "base_uri": "https://localhost:8080/"
        },
        "id": "BbKpukUT5tH2",
        "outputId": "61ab8a1c-2b6e-475c-8fb7-275b4ac95f24"
      },
      "execution_count": 2,
      "outputs": [
        {
          "output_type": "stream",
          "name": "stdout",
          "text": [
            "Median: 6\n"
          ]
        }
      ]
    },
    {
      "cell_type": "markdown",
      "source": [
        "Mode"
      ],
      "metadata": {
        "id": "GAySb1ce5tzF"
      }
    },
    {
      "cell_type": "code",
      "source": [
        "from collections import Counter\n",
        "\n",
        "def mode(numbers):\n",
        "    counts = Counter(numbers)\n",
        "    max_count = max(counts.values())\n",
        "    modes = [k for k, v in counts.items() if v == max_count]\n",
        "\n",
        "    if len(modes) == len(numbers):  # all values appear once\n",
        "        return None\n",
        "    return modes\n",
        "\n",
        "# Example\n",
        "data = [2, 4, 4, 6, 8, 10, 10]\n",
        "print(\"Mode:\", mode(data))\n"
      ],
      "metadata": {
        "colab": {
          "base_uri": "https://localhost:8080/"
        },
        "id": "75Qjh0E05wY8",
        "outputId": "8a4fd8f1-d400-4055-edd0-5d4344ba422f"
      },
      "execution_count": 3,
      "outputs": [
        {
          "output_type": "stream",
          "name": "stdout",
          "text": [
            "Mode: [4, 10]\n"
          ]
        }
      ]
    },
    {
      "cell_type": "markdown",
      "source": [
        "Variance"
      ],
      "metadata": {
        "id": "y5O6sOx85x_r"
      }
    },
    {
      "cell_type": "code",
      "source": [
        "def variance(numbers):\n",
        "    mu = mean(numbers)\n",
        "    return sum((x - mu) ** 2 for x in numbers) / len(numbers)\n",
        "\n",
        "# Example\n",
        "data = [2, 4, 6, 8, 10]\n",
        "print(\"Variance:\", variance(data))\n"
      ],
      "metadata": {
        "colab": {
          "base_uri": "https://localhost:8080/"
        },
        "id": "Kirbmklu50K-",
        "outputId": "1f80b4d8-bf88-477f-a55b-687a519be89a"
      },
      "execution_count": 4,
      "outputs": [
        {
          "output_type": "stream",
          "name": "stdout",
          "text": [
            "Variance: 8.0\n"
          ]
        }
      ]
    },
    {
      "cell_type": "markdown",
      "source": [
        "Standard Deviation"
      ],
      "metadata": {
        "id": "72wNq8sE51pn"
      }
    },
    {
      "cell_type": "code",
      "source": [
        "import math\n",
        "\n",
        "def std_dev(numbers):\n",
        "    return math.sqrt(variance(numbers))\n",
        "\n",
        "# Example\n",
        "data = [2, 4, 6, 8, 10]\n",
        "print(\"Standard Deviation:\", std_dev(data))\n"
      ],
      "metadata": {
        "colab": {
          "base_uri": "https://localhost:8080/"
        },
        "id": "XIu28gRe53oC",
        "outputId": "e905ee01-606a-4c13-a784-d1222cff592e"
      },
      "execution_count": 5,
      "outputs": [
        {
          "output_type": "stream",
          "name": "stdout",
          "text": [
            "Standard Deviation: 2.8284271247461903\n"
          ]
        }
      ]
    },
    {
      "cell_type": "markdown",
      "source": [
        "Euclidean Distance\n",
        "Supports both values & lists."
      ],
      "metadata": {
        "id": "dXouAIo755Iu"
      }
    },
    {
      "cell_type": "code",
      "source": [
        "import math\n",
        "\n",
        "def euclidean_distance(x, y):\n",
        "    if isinstance(x, (int, float)) and isinstance(y, (int, float)):\n",
        "        return abs(x - y)\n",
        "    elif isinstance(x, list) and isinstance(y, list) and len(x) == len(y):\n",
        "        return math.sqrt(sum((a - b) ** 2 for a, b in zip(x, y)))\n",
        "    else:\n",
        "        raise ValueError(\"Inputs must be both numbers or lists of the same length.\")\n",
        "\n",
        "# Example\n",
        "print(\"Euclidean Distance (numbers):\", euclidean_distance(5, 12))\n",
        "print(\"Euclidean Distance (lists):\", euclidean_distance([1, 2], [4, 6]))\n"
      ],
      "metadata": {
        "colab": {
          "base_uri": "https://localhost:8080/"
        },
        "id": "4-fby9Tx58Z6",
        "outputId": "ae018a2a-6874-4a7a-9507-490862d03459"
      },
      "execution_count": 6,
      "outputs": [
        {
          "output_type": "stream",
          "name": "stdout",
          "text": [
            "Euclidean Distance (numbers): 7\n",
            "Euclidean Distance (lists): 5.0\n"
          ]
        }
      ]
    },
    {
      "cell_type": "markdown",
      "source": [
        "Sigmoid Function"
      ],
      "metadata": {
        "id": "DhcpGVZg5-GT"
      }
    },
    {
      "cell_type": "code",
      "source": [
        "import math\n",
        "\n",
        "def sigmoid(x):\n",
        "    return 1 / (1 + math.exp(-x))\n",
        "\n",
        "# Example\n",
        "print(\"Sigmoid(0):\", sigmoid(0))\n",
        "print(\"Sigmoid(2):\", sigmoid(2))\n"
      ],
      "metadata": {
        "colab": {
          "base_uri": "https://localhost:8080/"
        },
        "id": "zU7SsjkO6Acm",
        "outputId": "55184970-5fec-44cc-d2b8-784bb0daa4a3"
      },
      "execution_count": 7,
      "outputs": [
        {
          "output_type": "stream",
          "name": "stdout",
          "text": [
            "Sigmoid(0): 0.5\n",
            "Sigmoid(2): 0.8807970779778823\n"
          ]
        }
      ]
    },
    {
      "cell_type": "markdown",
      "source": [
        "### What did i learn from these formulas?\n",
        "\n",
        "- **Mean**: the simple average.  \n",
        "- **Median**: the middle value, good for uneven data.  \n",
        "- **Mode**: the most common number.  \n",
        "- **Variance & Std Dev**: tell how spread out the data is.  \n",
        "- **Euclidean Distance**: straight-line distance between points.  \n",
        "- **Sigmoid**: squeezes values between 0 and 1, handy in ML.  \n"
      ],
      "metadata": {
        "id": "mv3r1-gv6B-d"
      }
    }
  ]
}