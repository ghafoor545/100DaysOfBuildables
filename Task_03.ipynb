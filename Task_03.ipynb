{
  "nbformat": 4,
  "nbformat_minor": 0,
  "metadata": {
    "colab": {
      "provenance": []
    },
    "kernelspec": {
      "name": "python3",
      "display_name": "Python 3"
    },
    "language_info": {
      "name": "python"
    }
  },
  "cells": [
    {
      "cell_type": "markdown",
      "source": [
        "Variables & Data Types"
      ],
      "metadata": {
        "id": "r64hrDcF71Xe"
      }
    },
    {
      "cell_type": "code",
      "execution_count": 1,
      "metadata": {
        "colab": {
          "base_uri": "https://localhost:8080/"
        },
        "id": "pKTubz567rqN",
        "outputId": "8c1a454f-94e2-4211-af4d-61dbfd3c8db7"
      },
      "outputs": [
        {
          "output_type": "stream",
          "name": "stdout",
          "text": [
            "10 <class 'int'>\n",
            "3.14 <class 'float'>\n",
            "Hello Python <class 'str'>\n",
            "[1, 2, 3, 4, 5] <class 'list'>\n"
          ]
        }
      ],
      "source": [
        "# Variables of different types\n",
        "num_int = 10\n",
        "num_float = 3.14\n",
        "text = \"Hello Python\"\n",
        "my_list = [1, 2, 3, 4, 5]\n",
        "\n",
        "# Printing values and types\n",
        "print(num_int, type(num_int))\n",
        "print(num_float, type(num_float))\n",
        "print(text, type(text))\n",
        "print(my_list, type(my_list))\n"
      ]
    },
    {
      "cell_type": "markdown",
      "source": [
        ". Conditionals"
      ],
      "metadata": {
        "id": "Tz2clLxE730I"
      }
    },
    {
      "cell_type": "code",
      "source": [
        "# Check if a number is positive, negative or zero\n",
        "number = int(input(\"Enter a number: \"))\n",
        "\n",
        "if number > 0:\n",
        "    print(\"Positive\")\n",
        "elif number < 0:\n",
        "    print(\"Negative\")\n",
        "else:\n",
        "    print(\"Zero\")\n"
      ],
      "metadata": {
        "colab": {
          "base_uri": "https://localhost:8080/"
        },
        "id": "XHrRaNq-759U",
        "outputId": "9a09e64f-db09-4bf3-be5c-dcc33acc5b23"
      },
      "execution_count": 2,
      "outputs": [
        {
          "output_type": "stream",
          "name": "stdout",
          "text": [
            "Enter a number: 15\n",
            "Positive\n"
          ]
        }
      ]
    },
    {
      "cell_type": "markdown",
      "source": [
        "Loops\n",
        "(a) First 10 natural numbers"
      ],
      "metadata": {
        "id": "IunmzwEE77lk"
      }
    },
    {
      "cell_type": "code",
      "source": [
        "for i in range(1, 11):\n",
        "    print(i)\n"
      ],
      "metadata": {
        "colab": {
          "base_uri": "https://localhost:8080/"
        },
        "id": "LNiAjZL47-b6",
        "outputId": "5e563e1e-2791-4ec6-d962-c2121ec2701c"
      },
      "execution_count": 3,
      "outputs": [
        {
          "output_type": "stream",
          "name": "stdout",
          "text": [
            "1\n",
            "2\n",
            "3\n",
            "4\n",
            "5\n",
            "6\n",
            "7\n",
            "8\n",
            "9\n",
            "10\n"
          ]
        }
      ]
    },
    {
      "cell_type": "markdown",
      "source": [
        "(b) Factorial of a number"
      ],
      "metadata": {
        "id": "ghBmgYx27_-g"
      }
    },
    {
      "cell_type": "code",
      "source": [
        "num = int(input(\"Enter a number for factorial: \"))\n",
        "factorial = 1\n",
        "\n",
        "for i in range(1, num + 1):\n",
        "    factorial *= i\n",
        "\n",
        "print(\"Factorial of\", num, \"is\", factorial)\n"
      ],
      "metadata": {
        "colab": {
          "base_uri": "https://localhost:8080/"
        },
        "id": "IczdVlJm8CAp",
        "outputId": "0baf275b-93d7-421f-9173-9101d6153677"
      },
      "execution_count": 5,
      "outputs": [
        {
          "output_type": "stream",
          "name": "stdout",
          "text": [
            "Enter a number for factorial: 25\n",
            "Factorial of 25 is 15511210043330985984000000\n"
          ]
        }
      ]
    },
    {
      "cell_type": "markdown",
      "source": [
        "Functions"
      ],
      "metadata": {
        "id": "xVW0oEAX8Div"
      }
    },
    {
      "cell_type": "code",
      "source": [
        "# Function to greet\n",
        "def greet(name):\n",
        "    print(f\"Hello, {name}!\")\n",
        "\n",
        "# Function to check even/odd\n",
        "def is_even(num):\n",
        "    return num % 2 == 0\n",
        "\n",
        "# Examples\n",
        "greet(\"Ghafoor\")\n",
        "print(is_even(4))  # True\n",
        "print(is_even(7))  # False\n"
      ],
      "metadata": {
        "colab": {
          "base_uri": "https://localhost:8080/"
        },
        "id": "dVMvjc1w8Fjs",
        "outputId": "19d07232-22cb-495b-f7fa-3ec401794d4f"
      },
      "execution_count": 7,
      "outputs": [
        {
          "output_type": "stream",
          "name": "stdout",
          "text": [
            "Hello, Ghafoor!\n",
            "True\n",
            "False\n"
          ]
        }
      ]
    },
    {
      "cell_type": "markdown",
      "source": [
        "List Operations"
      ],
      "metadata": {
        "id": "k0yPZjZ_8HaF"
      }
    },
    {
      "cell_type": "code",
      "source": [
        "numbers = [10, 5, 20, 7, 15]\n",
        "\n",
        "print(\"Max:\", max(numbers))\n",
        "print(\"Min:\", min(numbers))\n",
        "print(\"Sum:\", sum(numbers))\n",
        "print(\"Average:\", sum(numbers)/len(numbers))\n",
        "\n",
        "numbers.sort()\n",
        "print(\"Sorted:\", numbers)\n",
        "\n",
        "numbers.reverse()\n",
        "print(\"Reversed:\", numbers)\n"
      ],
      "metadata": {
        "colab": {
          "base_uri": "https://localhost:8080/"
        },
        "id": "IskcdUni8JS6",
        "outputId": "2f16d088-ce76-40f7-800f-79fd1d976336"
      },
      "execution_count": 8,
      "outputs": [
        {
          "output_type": "stream",
          "name": "stdout",
          "text": [
            "Max: 20\n",
            "Min: 5\n",
            "Sum: 57\n",
            "Average: 11.4\n",
            "Sorted: [5, 7, 10, 15, 20]\n",
            "Reversed: [20, 15, 10, 7, 5]\n"
          ]
        }
      ]
    },
    {
      "cell_type": "markdown",
      "source": [
        "Input/Output"
      ],
      "metadata": {
        "id": "BIpRekK88Koh"
      }
    },
    {
      "cell_type": "code",
      "source": [
        "name = input(\"Enter your name: \")\n",
        "age = input(\"Enter your age: \")\n",
        "\n",
        "print(f\"Hello {name}, you are {age} years old.\")\n"
      ],
      "metadata": {
        "colab": {
          "base_uri": "https://localhost:8080/"
        },
        "id": "A3IUc2EW8NpY",
        "outputId": "558b47f9-6153-4215-844a-17ad0a32815a"
      },
      "execution_count": 9,
      "outputs": [
        {
          "output_type": "stream",
          "name": "stdout",
          "text": [
            "Enter your name: ghafoor\n",
            "Enter your age: 22\n",
            "Hello ghafoor, you are 22 years old.\n"
          ]
        }
      ]
    },
    {
      "cell_type": "code",
      "source": [],
      "metadata": {
        "id": "qHOO9sgf8nv-"
      },
      "execution_count": null,
      "outputs": []
    }
  ]
}